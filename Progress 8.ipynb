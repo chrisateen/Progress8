{
 "cells": [
  {
   "cell_type": "code",
   "execution_count": 1,
   "metadata": {},
   "outputs": [],
   "source": [
    "import pandas as pd\n",
    "import numpy as np\n",
    "import glob"
   ]
  },
  {
   "cell_type": "code",
   "execution_count": 2,
   "metadata": {},
   "outputs": [],
   "source": [
    "#Function to create a column that combines QAN with the word QAN to help with merging\n",
    "def QAN_merge_col (df,col):\n",
    "    return \"QAN \" + str(df[col])"
   ]
  },
  {
   "cell_type": "code",
   "execution_count": 3,
   "metadata": {},
   "outputs": [],
   "source": [
    "#Function to create a column that combines QAN with the word QAN to help with merging\n",
    "def QAN_grade_col (df):\n",
    "    return str(df['QAN Merge']) + \" \" + str(df['Pass Grades'])"
   ]
  },
  {
   "cell_type": "code",
   "execution_count": 4,
   "metadata": {},
   "outputs": [],
   "source": [
    "#Function to create a column that combines QAN with the student grade to enable merging\n",
    "def QAN_student_grade_col (df):\n",
    "    return \"QAN \" + str(df['QAN']) + \" \" + str(df['Result'])"
   ]
  },
  {
   "cell_type": "code",
   "execution_count": 5,
   "metadata": {},
   "outputs": [],
   "source": [
    "#Function that calculates the English P8 score\n",
    "def max_en(df):\n",
    "    #Any student who has en and el the highest English grade will be doubled else it will not be doubled\n",
    "    if pd.isnull(df['Open','Calc','Max English 2']):\n",
    "        return df['P8 English','Calc','Max English 1']\n",
    "    else:\n",
    "        return df['P8 English','Calc','Max English 1'] * 2"
   ]
  },
  {
   "cell_type": "code",
   "execution_count": 6,
   "metadata": {},
   "outputs": [],
   "source": [
    "'''Read all the Ebacc qualifcations and merge into a single dataframe'''\n",
    "\n",
    "#All the EBacc qualifcation type (i.e tabs on the EBacc spreadsheet)\n",
    "EBacc_slots = {\n",
    "                'English':'English',\n",
    "                'English Literature':'English',\n",
    "                'Maths':'Maths',\n",
    "                'Science':'EBacc',\n",
    "                'Humanities':'EBacc',\n",
    "                'Languages':'EBacc'\n",
    "              }\n",
    "\n",
    "#Stores all the Ebacc qualifcation data\n",
    "EBacc_quals = []\n",
    "\n",
    "#Loops through each relevant tab in the EBacc qual spreadsheet\n",
    "for qual in EBacc_slots:\n",
    "    \n",
    "    #Read the sheet in the EBacc Quals spreadsheet\n",
    "    qual_data = pd.read_excel('EBacc Quals.xlsx',sheet_name=qual)\n",
    "    \n",
    "    #Used to remove any header, footer and blank rows\n",
    "    qual_data.dropna(subset=['Unnamed: 2'],inplace=True)\n",
    "    \n",
    "    #Rename the columns to the correct rows in the spreadsheet\n",
    "    qual_data.columns = qual_data.iloc[0].tolist()\n",
    "    \n",
    "    #Drop the header column\n",
    "    qual_data.drop([qual_data.index[0]],inplace=True)\n",
    "    \n",
    "    #Creates a column with which EBacc slot the dataframe of qualifcations belong to\n",
    "    qual_data['P8 Slot'] = EBacc_slots[qual]\n",
    "    \n",
    "    EBacc_quals.append(qual_data)\n",
    "\n",
    "#Puts all the EBacc data into 1 dataframe\n",
    "EBacc_quals = pd.concat(EBacc_quals,sort=False)\n",
    "\n",
    "#Remove any EBacc qualifcations that do not count in 2019\n",
    "EBacc_quals.dropna(subset=[2019],inplace=True)\n",
    "\n",
    "#Only need the QAN number and which EBacc slot the qualifcation belongs to\n",
    "EBacc_quals = EBacc_quals[['QN','P8 Slot']]"
   ]
  },
  {
   "cell_type": "code",
   "execution_count": 7,
   "metadata": {},
   "outputs": [],
   "source": [
    "#Reads the discount codes\n",
    "discount_codes = pd.read_excel('Discount Codes.xlsx',sheet_name='2019',skiprows=[0,1])\n",
    "#Enables the removal of footer columns\n",
    "discount_codes.dropna(subset=['Qualification Title'],inplace=True)\n",
    "#Only need the discount code and QAN columns\n",
    "discount_codes = discount_codes[['Qualification Number','2019 KS4 Discount Code']]"
   ]
  },
  {
   "cell_type": "code",
   "execution_count": 8,
   "metadata": {},
   "outputs": [],
   "source": [
    "#Gets the performace points.\n",
    "performance_points = pd.read_excel('Performance Points.xlsx',sheet_name='Underlying Data',skiprows=[0,1,2])\n",
    "#Enables the removal of footer columns\n",
    "performance_points.dropna(subset=['Qualification Title'],inplace=True)\n",
    "\n",
    "#Gets the AS data so that one can distinguish between level 3 and level 2 qualifications\n",
    "AS_single = pd.read_excel('Performance Points.xlsx',sheet_name='AS Levels',skiprows=[0,1,2],usecols = [0,1])\n",
    "AS_single.dropna(subset=['Qualification Title'],inplace=True)\n",
    "\n",
    "AS_double = pd.read_excel('Performance Points.xlsx',sheet_name='AS Levels Double',skiprows=[0,1,2],usecols = [0,1])\n",
    "AS_double.dropna(subset=['Qualification Title'],inplace=True)\n",
    "\n",
    "AS = pd.concat([AS_single,AS_double])\n",
    "AS['Qual Level'] = \"KS5\""
   ]
  },
  {
   "cell_type": "code",
   "execution_count": 9,
   "metadata": {},
   "outputs": [],
   "source": [
    "'''Create a U grade column for each qualification'''\n",
    "\n",
    "#Create a pivot table with all the different qualifications\n",
    "qual_lst = performance_points.pivot_table(index = ['Qualification Number','Qualification Title','Qualification Type',\n",
    "                                         'GCSE Size Equivalence 1'],\n",
    "                               values='Pass Points',aggfunc='first')\n",
    "#Flatten the pivot table\n",
    "qual_lst.reset_index(inplace=True)\n",
    "\n",
    "#Gives each qualifcation a U grade and the equivalent point of 0\n",
    "qual_lst['Pass Points'] = 0\n",
    "qual_lst['Pass Grades'] = \"U\"\n",
    "qual_lst['Grade Text'] = \"Grade U\"\n",
    "\n",
    "#Merges this list back into the main performance points list\n",
    "performance_points = pd.concat([qual_lst,performance_points],sort=True)"
   ]
  },
  {
   "cell_type": "code",
   "execution_count": 10,
   "metadata": {},
   "outputs": [],
   "source": [
    "'''A merge column is created which is the QAN followed by the number in order to enable merging\n",
    "    as merging in pandas does not work well with numbers\n",
    "'''\n",
    "discount_codes['QAN Merge'] = discount_codes.apply(lambda x : QAN_merge_col(x,'Qualification Number'),axis=1)\n",
    "performance_points['QAN Merge'] = performance_points.apply(lambda x : QAN_merge_col(x,'Qualification Number'),axis=1)\n",
    "EBacc_quals['QAN Merge'] = EBacc_quals.apply(lambda x : QAN_merge_col(x,'QN'),axis=1)\n",
    "AS['QAN Merge'] = AS.apply(lambda x : QAN_merge_col(x,'Qualification Number'),axis=1)"
   ]
  },
  {
   "cell_type": "code",
   "execution_count": 11,
   "metadata": {},
   "outputs": [],
   "source": [
    "discount_codes = discount_codes.merge(AS,how='left',on='QAN Merge')\n",
    "\n",
    "#Any qualifcations that is not in the AS list we assume it is a KS4 qualification\n",
    "discount_codes.fillna({'Qual Level':'KS4'},inplace=True)"
   ]
  },
  {
   "cell_type": "code",
   "execution_count": 12,
   "metadata": {},
   "outputs": [],
   "source": [
    "'''Merge all the qualifcation data together into 1 dataframe'''\n",
    "qualifcations = EBacc_quals.merge(performance_points,how='right',on='QAN Merge')\n",
    "qualifcations = qualifcations.merge(discount_codes,how='left',on='QAN Merge')\n",
    "\n",
    "#Any qualifcation that is not in the EBacc list should be classed as an open qualification\n",
    "qualifcations.fillna({'P8 Slot':'Open'},inplace=True)"
   ]
  },
  {
   "cell_type": "code",
   "execution_count": 13,
   "metadata": {},
   "outputs": [],
   "source": [
    "'''Create a column that enable the merging of the QAN \n",
    "    and the grade in order to get the points of each qualifcation'''\n",
    "qualifcations['QAN Grade'] = qualifcations.apply(lambda x : QAN_grade_col(x),axis=1)\n",
    "\n",
    "#Remove the coluumns that are not needed\n",
    "qualifcations.drop(['QN','Grade Text','Qualification Number_x',\n",
    "                    'Qualification Number_y','Qualification Title_y'],axis = 1,inplace=True)\n",
    "\n",
    "#Rename the qualification title column\n",
    "qualifcations.rename(columns={\"Qualification Title_x\": \"Qualification Title\"},inplace=True)"
   ]
  },
  {
   "cell_type": "code",
   "execution_count": 14,
   "metadata": {},
   "outputs": [],
   "source": [
    "#gets the list of filenames with the subject results\n",
    "results_filename=glob.glob('* Results.xlsx')\n",
    "\n",
    "#stores the results data for each school\n",
    "results = []\n",
    "\n",
    "#loops through each file, gets the results and append to the list of results\n",
    "for filename in results_filename:\n",
    "    \n",
    "    df = pd.read_excel(filename,sheet_name='data')\n",
    "    results.append(df)\n",
    "    \n",
    "#Merege each of the school data together into 1 dataframe\n",
    "results = pd.concat(results,sort=False)\n",
    "\n",
    "#create a column that combines QAN with the student grade to enable merging\n",
    "results['QAN Grade'] = results.apply(lambda x : QAN_student_grade_col(x),axis=1)"
   ]
  },
  {
   "cell_type": "code",
   "execution_count": 15,
   "metadata": {},
   "outputs": [],
   "source": [
    "#Merge the data to get the equivalent DfE points and the discount codes\n",
    "#Any qualifications that do not count will not be included\n",
    "results = results.merge(qualifcations,on='QAN Grade',how='left')"
   ]
  },
  {
   "cell_type": "code",
   "execution_count": 16,
   "metadata": {},
   "outputs": [],
   "source": [
    "#Sort the dataframe to enable removal of duplicate or discounting result\n",
    "results.sort_values(by=['UPN','2019 KS4 Discount Code',\n",
    "                          'Qual Level','QAN Merge',\n",
    "                          'Result Date','Pass Points'],ascending=[True,True,False,True,True,False],inplace=True)\n",
    "\n",
    "'''Delete results where student has sat the same Qual more than once.\n",
    "    First attempt will remain unless qual was sat on the same day, then best attempt will remain\n",
    "''' \n",
    "results.drop_duplicates(subset=['UPN','QAN Merge'],keep='first',inplace=True)"
   ]
  },
  {
   "cell_type": "code",
   "execution_count": 17,
   "metadata": {},
   "outputs": [],
   "source": [
    "#Delete results with the same discount code. KS5 will superceed KS4\n",
    "results.drop_duplicates(subset=['UPN','2019 KS4 Discount Code'],keep='first',inplace=True)\n",
    "\n",
    "'''Gets a copy of all the science results. \n",
    "    This is so that the double science can be counted in two slots'''\n",
    "scDouble = results[(results['2019 KS4 Discount Code']=='RA1E')].copy()\n",
    "\n",
    "#Merge with data main dataframe and change qual name slightly\n",
    "scDouble['Qualification Title'] = scDouble['Qualification Title'] + \"B\"\n",
    "\n",
    "results = pd.concat([results,scDouble])"
   ]
  },
  {
   "cell_type": "code",
   "execution_count": 18,
   "metadata": {},
   "outputs": [],
   "source": [
    "#Creates a pivot table to group columns by slot\n",
    "Att8 = results.pivot_table(index = ['UPN'],columns = ['P8 Slot','2019 KS4 Discount Code','Qualification Title'],values='Pass Points',aggfunc='first')"
   ]
  },
  {
   "cell_type": "code",
   "execution_count": 19,
   "metadata": {},
   "outputs": [],
   "source": [
    "#Gets the Maths points\n",
    "maths = Att8.xs('Maths', level='P8 Slot', axis=1,drop_level=False).copy()\n",
    "\n",
    "#Double the maths points for attainment 8\n",
    "maths['P8 Maths','Calc','Max Maths 1']=maths.max(axis=1)*2\n",
    "\n",
    "#Merge the Maths points for attainment 8 back to the main pivot table\n",
    "Att8 = Att8.merge(maths.loc[:,['P8 Maths']],left_index=True, right_index=True,how=\"outer\")"
   ]
  },
  {
   "cell_type": "code",
   "execution_count": 20,
   "metadata": {},
   "outputs": [
    {
     "name": "stderr",
     "output_type": "stream",
     "text": [
      "C:\\ProgramData\\Anaconda3\\lib\\site-packages\\IPython\\core\\interactiveshell.py:2854: PerformanceWarning: indexing past lexsort depth may impact performance.\n",
      "  raw_cell, store_history, silent, shell_futures)\n",
      "C:\\ProgramData\\Anaconda3\\lib\\site-packages\\IPython\\core\\async_helpers.py:68: PerformanceWarning: indexing past lexsort depth may impact performance.\n",
      "  coro.send(None)\n",
      "C:\\ProgramData\\Anaconda3\\lib\\site-packages\\IPython\\core\\interactiveshell.py:2880: PerformanceWarning: indexing past lexsort depth may impact performance.\n",
      "  return runner(coro)\n"
     ]
    }
   ],
   "source": [
    "#Get the english points\n",
    "english = Att8.xs('English', level='P8 Slot', axis=1,drop_level=False).copy()\n",
    "\n",
    "#fill any NAN values with ~inf to enable doing the max using nlargest function\n",
    "english['English'] = english['English'].fillna(float('-inf'))\n",
    "\n",
    "#Calculate the highest English points\n",
    "english['P8 English','Calc','Max English 1']= english.max(axis=1)\n",
    "\n",
    "#Calculate the second highest English points which will count for the open slot\n",
    "english['Open','Calc','Max English 2'] = english.loc[:,'English'].apply(lambda row: row.nlargest(2).values[-1],axis=1)\n",
    "\n",
    "#replace ~inf with nan\n",
    "english = english.replace(float('-inf'), np.nan)\n",
    "\n",
    "#Any student who has en and el the highest English grade will be doubled else it will not be doubled\n",
    "english['P8 English','Calc','Max English 1'] = english.apply(lambda x : max_en(x),axis=1)\n",
    "\n",
    "english['P8 English','Calc'] = english['P8 English','Calc'].fillna(0)\n",
    "\n",
    "#Merge the Max En points back to the main pivot table\n",
    "Att8 = Att8.merge(english.loc[:,['P8 English','Open']],left_index=True, right_index=True,how=\"outer\")\n"
   ]
  },
  {
   "cell_type": "code",
   "execution_count": 21,
   "metadata": {},
   "outputs": [],
   "source": [
    "#Gets all the EBacc points\n",
    "ebacc = Att8.xs('EBacc', level='P8 Slot', axis=1,drop_level=False).copy()\n",
    "\n",
    "#fill any NAN values with ~inf to enable doing the max\n",
    "ebacc['EBacc'] = ebacc['EBacc'].fillna(float('-inf'))\n",
    "\n",
    "#Calculate the highest EBacc points\n",
    "ebacc['P8 EBacc','Calc','Max EBacc 1']= ebacc.max(axis=1)\n",
    "\n",
    "#Calculate the 2nd highest to the 6th highest EBacc points\n",
    "for i in range(2, 7):\n",
    "    if i<4:\n",
    "        ebacc['P8 EBacc','Calc','Max EBacc '+ str(i)] = ebacc.loc[:,'EBacc'].apply(lambda row: row.nlargest(i).values[-1],axis=1)\n",
    "    else:\n",
    "        #4th to 6th highest EBacc points may count towards the open slots\n",
    "        ebacc['Open','Calc','Max EBacc '+ str(i)] = ebacc.loc[:,'EBacc'].apply(lambda row: row.nlargest(i).values[-1],axis=1)\n",
    "\n",
    "#replace ~inf with nan\n",
    "ebacc = ebacc.replace(float('-inf'), np.nan)\n",
    "\n",
    "#Merge the calculated Ebacc points back to the main pivot table\n",
    "Att8 = Att8.merge(ebacc.loc[:,['P8 EBacc','Open']],left_index=True, right_index=True,how=\"outer\")"
   ]
  },
  {
   "cell_type": "code",
   "execution_count": 22,
   "metadata": {},
   "outputs": [],
   "source": [
    "#Gets all the Open points\n",
    "open_slot = Att8.xs('Open', level='P8 Slot', axis=1,drop_level=False).copy()\n",
    "\n",
    "#fill any NAN values with ~inf to enable doing the max\n",
    "open_slot['Open'] = open_slot['Open'].fillna(float('-inf'))\n",
    "\n",
    "#Calculate MAX Open 1\n",
    "open_slot['P8 Open','Calc','Max Open 1'] = open_slot.max(axis=1)\n",
    "\n",
    "#Calculate the 2nd highest and third highest open slot\n",
    "for i in [2,3]:\n",
    "    \n",
    "    open_slot['P8 Open','Calc','Max Open '+ str(i)] = open_slot.loc[:,'Open'].apply(lambda row: row.nlargest(i).values[-1],axis=1)\n",
    "    \n",
    "#replace ~inf with nan\n",
    "open_slot = open_slot.replace(float('-inf'), np.nan)\n",
    "\n",
    "#Merge the calculated Ebacc points back to the main pivot table\n",
    "Att8 = Att8.merge(open_slot.loc[:,['P8 Open']],left_index=True, right_index=True,how=\"outer\")"
   ]
  },
  {
   "cell_type": "code",
   "execution_count": 23,
   "metadata": {},
   "outputs": [],
   "source": [
    "#Flatten the pivot table using the Qualification title level or/and P8 slot name as the column name\n",
    "Att8.columns = Att8.columns.get_level_values(2)"
   ]
  },
  {
   "cell_type": "code",
   "execution_count": 24,
   "metadata": {},
   "outputs": [],
   "source": [
    "#Fill blanks with 0 to enable adding\n",
    "Att8['Max Maths 1'].fillna(0)\n",
    "Att8['Max English 1'].fillna(0)\n",
    "\n",
    "for slot in ['EBacc','Open']:\n",
    "    \n",
    "    for i in [1,2,3]:\n",
    "        \n",
    "        Att8['Max {} {}'.format(slot,i)] = Att8['Max {} {}'.format(slot,i)].fillna(0)"
   ]
  },
  {
   "cell_type": "code",
   "execution_count": 25,
   "metadata": {},
   "outputs": [],
   "source": [
    "#Calculate all the attainment 8 slots\n",
    "Att8['Attainment 8 Maths'] = Att8['Max Maths 1']\n",
    "Att8['Attainment 8 English'] = Att8['Max English 1']\n",
    "Att8['Attainment 8 EBacc'] = Att8['Max EBacc 1']+ Att8['Max EBacc 2'] + Att8['Max EBacc 3']\n",
    "Att8['Attainment 8 Open'] = Att8['Max Open 1'] + Att8['Max Open 2'] + Att8['Max Open 3']\n",
    "Att8['Attainment 8 Score'] = Att8['Attainment 8 Maths'] + Att8['Attainment 8 English'] + Att8['Attainment 8 EBacc'] + Att8['Attainment 8 Open']"
   ]
  },
  {
   "cell_type": "code",
   "execution_count": 26,
   "metadata": {},
   "outputs": [],
   "source": [
    "#Export the attainment 8 data to an excel file\n",
    "Att8.to_excel(\"Attainment 8 Data.xlsx\")"
   ]
  },
  {
   "cell_type": "code",
   "execution_count": null,
   "metadata": {},
   "outputs": [],
   "source": []
  }
 ],
 "metadata": {
  "kernelspec": {
   "display_name": "Python 3",
   "language": "python",
   "name": "python3"
  },
  "language_info": {
   "codemirror_mode": {
    "name": "ipython",
    "version": 3
   },
   "file_extension": ".py",
   "mimetype": "text/x-python",
   "name": "python",
   "nbconvert_exporter": "python",
   "pygments_lexer": "ipython3",
   "version": "3.7.3"
  }
 },
 "nbformat": 4,
 "nbformat_minor": 2
}
